{
 "cells": [
  {
   "cell_type": "code",
   "execution_count": 1,
   "metadata": {},
   "outputs": [],
   "source": [
    "import pandas as pd\n",
    "import numpy as np\n",
    "\n",
    "import glob\n",
    "import matplotlib.pyplot as plt\n",
    "%matplotlib inline "
   ]
  },
  {
   "cell_type": "code",
   "execution_count": 2,
   "metadata": {},
   "outputs": [],
   "source": [
    "folder = 'all_ttl_analysis/'\n",
    "all_files = glob.glob(folder + \"/*.csv\")"
   ]
  },
  {
   "cell_type": "code",
   "execution_count": 3,
   "metadata": {},
   "outputs": [],
   "source": [
    "df_list_all = []\n",
    "\n",
    "for filename in all_files:\n",
    "    df = pd.read_csv(filename, index_col=None, header=0)\n",
    "    df['file_name'] = filename.replace('all_ttl_analysis/ttl_','').replace('.pcap.csv','')\n",
    "    df_list_all.append(df)\n",
    "\n",
    "df_all = pd.concat(df_list_all)\n",
    "del df_all['Unnamed: 0']\n",
    "df_all.rename(columns={'file_name':'fingerprint_key'}, inplace=True)\n",
    "df_all.reset_index(inplace=True)"
   ]
  },
  {
   "cell_type": "code",
   "execution_count": 4,
   "metadata": {},
   "outputs": [
    {
     "data": {
      "text/html": [
       "<div>\n",
       "<style scoped>\n",
       "    .dataframe tbody tr th:only-of-type {\n",
       "        vertical-align: middle;\n",
       "    }\n",
       "\n",
       "    .dataframe tbody tr th {\n",
       "        vertical-align: top;\n",
       "    }\n",
       "\n",
       "    .dataframe thead th {\n",
       "        text-align: right;\n",
       "    }\n",
       "</style>\n",
       "<table border=\"1\" class=\"dataframe\">\n",
       "  <thead>\n",
       "    <tr style=\"text-align: right;\">\n",
       "      <th></th>\n",
       "      <th>index</th>\n",
       "      <th>ip</th>\n",
       "      <th>num_pkts</th>\n",
       "      <th>mean</th>\n",
       "      <th>median</th>\n",
       "      <th>distinct_values</th>\n",
       "      <th>delta</th>\n",
       "      <th>fingerprint_key</th>\n",
       "    </tr>\n",
       "  </thead>\n",
       "  <tbody>\n",
       "    <tr>\n",
       "      <th>0</th>\n",
       "      <td>0</td>\n",
       "      <td>1.0.172.73</td>\n",
       "      <td>1</td>\n",
       "      <td>118.0</td>\n",
       "      <td>118.0</td>\n",
       "      <td>[118]</td>\n",
       "      <td>0</td>\n",
       "      <td>066e98334a23b2b6bd4d95d572fea817</td>\n",
       "    </tr>\n",
       "    <tr>\n",
       "      <th>1</th>\n",
       "      <td>1</td>\n",
       "      <td>1.10.159.124</td>\n",
       "      <td>2</td>\n",
       "      <td>118.0</td>\n",
       "      <td>118.0</td>\n",
       "      <td>[118]</td>\n",
       "      <td>0</td>\n",
       "      <td>066e98334a23b2b6bd4d95d572fea817</td>\n",
       "    </tr>\n",
       "    <tr>\n",
       "      <th>2</th>\n",
       "      <td>2</td>\n",
       "      <td>1.100.152.79</td>\n",
       "      <td>1</td>\n",
       "      <td>118.0</td>\n",
       "      <td>118.0</td>\n",
       "      <td>[118]</td>\n",
       "      <td>0</td>\n",
       "      <td>066e98334a23b2b6bd4d95d572fea817</td>\n",
       "    </tr>\n",
       "    <tr>\n",
       "      <th>3</th>\n",
       "      <td>3</td>\n",
       "      <td>1.100.190.127</td>\n",
       "      <td>1</td>\n",
       "      <td>117.0</td>\n",
       "      <td>117.0</td>\n",
       "      <td>[117]</td>\n",
       "      <td>0</td>\n",
       "      <td>066e98334a23b2b6bd4d95d572fea817</td>\n",
       "    </tr>\n",
       "    <tr>\n",
       "      <th>4</th>\n",
       "      <td>4</td>\n",
       "      <td>1.101.212.8</td>\n",
       "      <td>1</td>\n",
       "      <td>118.0</td>\n",
       "      <td>118.0</td>\n",
       "      <td>[118]</td>\n",
       "      <td>0</td>\n",
       "      <td>066e98334a23b2b6bd4d95d572fea817</td>\n",
       "    </tr>\n",
       "  </tbody>\n",
       "</table>\n",
       "</div>"
      ],
      "text/plain": [
       "   index             ip  num_pkts   mean  median distinct_values  delta  \\\n",
       "0      0     1.0.172.73         1  118.0   118.0           [118]      0   \n",
       "1      1   1.10.159.124         2  118.0   118.0           [118]      0   \n",
       "2      2   1.100.152.79         1  118.0   118.0           [118]      0   \n",
       "3      3  1.100.190.127         1  117.0   117.0           [117]      0   \n",
       "4      4    1.101.212.8         1  118.0   118.0           [118]      0   \n",
       "\n",
       "                    fingerprint_key  \n",
       "0  066e98334a23b2b6bd4d95d572fea817  \n",
       "1  066e98334a23b2b6bd4d95d572fea817  \n",
       "2  066e98334a23b2b6bd4d95d572fea817  \n",
       "3  066e98334a23b2b6bd4d95d572fea817  \n",
       "4  066e98334a23b2b6bd4d95d572fea817  "
      ]
     },
     "metadata": {},
     "output_type": "display_data"
    },
    {
     "data": {
      "text/html": [
       "<div>\n",
       "<style scoped>\n",
       "    .dataframe tbody tr th:only-of-type {\n",
       "        vertical-align: middle;\n",
       "    }\n",
       "\n",
       "    .dataframe tbody tr th {\n",
       "        vertical-align: top;\n",
       "    }\n",
       "\n",
       "    .dataframe thead th {\n",
       "        text-align: right;\n",
       "    }\n",
       "</style>\n",
       "<table border=\"1\" class=\"dataframe\">\n",
       "  <thead>\n",
       "    <tr style=\"text-align: right;\">\n",
       "      <th></th>\n",
       "      <th>index</th>\n",
       "      <th>ip</th>\n",
       "      <th>num_pkts</th>\n",
       "      <th>mean</th>\n",
       "      <th>median</th>\n",
       "      <th>distinct_values</th>\n",
       "      <th>delta</th>\n",
       "      <th>fingerprint_key</th>\n",
       "    </tr>\n",
       "  </thead>\n",
       "  <tbody>\n",
       "    <tr>\n",
       "      <th>1764784</th>\n",
       "      <td>18653</td>\n",
       "      <td>99.9.58.205</td>\n",
       "      <td>1</td>\n",
       "      <td>239.0</td>\n",
       "      <td>239.0</td>\n",
       "      <td>[239]</td>\n",
       "      <td>0</td>\n",
       "      <td>0e0ad1669ed7b4bd375b16bbe0852386</td>\n",
       "    </tr>\n",
       "    <tr>\n",
       "      <th>1764785</th>\n",
       "      <td>18654</td>\n",
       "      <td>99.90.108.108</td>\n",
       "      <td>1</td>\n",
       "      <td>239.0</td>\n",
       "      <td>239.0</td>\n",
       "      <td>[239]</td>\n",
       "      <td>0</td>\n",
       "      <td>0e0ad1669ed7b4bd375b16bbe0852386</td>\n",
       "    </tr>\n",
       "    <tr>\n",
       "      <th>1764786</th>\n",
       "      <td>18655</td>\n",
       "      <td>99.90.109.19</td>\n",
       "      <td>1</td>\n",
       "      <td>239.0</td>\n",
       "      <td>239.0</td>\n",
       "      <td>[239]</td>\n",
       "      <td>0</td>\n",
       "      <td>0e0ad1669ed7b4bd375b16bbe0852386</td>\n",
       "    </tr>\n",
       "    <tr>\n",
       "      <th>1764787</th>\n",
       "      <td>18656</td>\n",
       "      <td>99.91.26.32</td>\n",
       "      <td>1</td>\n",
       "      <td>239.0</td>\n",
       "      <td>239.0</td>\n",
       "      <td>[239]</td>\n",
       "      <td>0</td>\n",
       "      <td>0e0ad1669ed7b4bd375b16bbe0852386</td>\n",
       "    </tr>\n",
       "    <tr>\n",
       "      <th>1764788</th>\n",
       "      <td>18657</td>\n",
       "      <td>99.97.128.19</td>\n",
       "      <td>1</td>\n",
       "      <td>239.0</td>\n",
       "      <td>239.0</td>\n",
       "      <td>[239]</td>\n",
       "      <td>0</td>\n",
       "      <td>0e0ad1669ed7b4bd375b16bbe0852386</td>\n",
       "    </tr>\n",
       "  </tbody>\n",
       "</table>\n",
       "</div>"
      ],
      "text/plain": [
       "         index             ip  num_pkts   mean  median distinct_values  delta  \\\n",
       "1764784  18653    99.9.58.205         1  239.0   239.0           [239]      0   \n",
       "1764785  18654  99.90.108.108         1  239.0   239.0           [239]      0   \n",
       "1764786  18655   99.90.109.19         1  239.0   239.0           [239]      0   \n",
       "1764787  18656    99.91.26.32         1  239.0   239.0           [239]      0   \n",
       "1764788  18657   99.97.128.19         1  239.0   239.0           [239]      0   \n",
       "\n",
       "                          fingerprint_key  \n",
       "1764784  0e0ad1669ed7b4bd375b16bbe0852386  \n",
       "1764785  0e0ad1669ed7b4bd375b16bbe0852386  \n",
       "1764786  0e0ad1669ed7b4bd375b16bbe0852386  \n",
       "1764787  0e0ad1669ed7b4bd375b16bbe0852386  \n",
       "1764788  0e0ad1669ed7b4bd375b16bbe0852386  "
      ]
     },
     "metadata": {},
     "output_type": "display_data"
    }
   ],
   "source": [
    "display(df_all.head())\n",
    "display(df_all.tail())"
   ]
  },
  {
   "cell_type": "markdown",
   "metadata": {},
   "source": [
    "## How may IP addresses (NO distinct)?"
   ]
  },
  {
   "cell_type": "code",
   "execution_count": 5,
   "metadata": {},
   "outputs": [
    {
     "data": {
      "text/plain": [
       "1764789"
      ]
     },
     "execution_count": 5,
     "metadata": {},
     "output_type": "execute_result"
    }
   ],
   "source": [
    "num_all_ips = len(df_all)\n",
    "num_all_ips"
   ]
  },
  {
   "cell_type": "markdown",
   "metadata": {},
   "source": [
    "## How many of these IP addresses have the delta <5?"
   ]
  },
  {
   "cell_type": "code",
   "execution_count": 6,
   "metadata": {},
   "outputs": [
    {
     "data": {
      "text/plain": [
       "1737209"
      ]
     },
     "execution_count": 6,
     "metadata": {},
     "output_type": "execute_result"
    }
   ],
   "source": [
    "df_relevant =df_all[df_all['delta']<5]\n",
    "ttl_delta_lower5 = len(df_relevant)\n",
    "ttl_delta_lower5"
   ]
  },
  {
   "cell_type": "markdown",
   "metadata": {},
   "source": [
    "## How many of are outliers that should be later investigated?"
   ]
  },
  {
   "cell_type": "code",
   "execution_count": 7,
   "metadata": {},
   "outputs": [
    {
     "data": {
      "text/plain": [
       "27580"
      ]
     },
     "execution_count": 7,
     "metadata": {},
     "output_type": "execute_result"
    }
   ],
   "source": [
    "num_all_ips - ttl_delta_lower5"
   ]
  },
  {
   "cell_type": "markdown",
   "metadata": {},
   "source": [
    "## How many IP addresses per attack?"
   ]
  },
  {
   "cell_type": "code",
   "execution_count": 8,
   "metadata": {},
   "outputs": [
    {
     "name": "stdout",
     "output_type": "stream",
     "text": [
      "Number of attacks: 39\n"
     ]
    },
    {
     "data": {
      "text/plain": [
       "0d8119604993f414d5677ad5d12b5ccf      1597039\n",
       "066e98334a23b2b6bd4d95d572fea817        76031\n",
       "07643f4c01920d5130226ed9f19d4b1e        21437\n",
       "0e0ad1669ed7b4bd375b16bbe0852386        18658\n",
       "13dcbff6256ea2f72064d3f5a517f893        16326\n",
       "156405ae844c064eb64c411a7d338b94         9739\n",
       "0ac695f2b205e619618265f72b69ff2a         8314\n",
       "0894623296ecae40349eff74e4fa1f1f         6990\n",
       "11c8b98d184d12b146f526d8f293e7ec         6240\n",
       "ffd1822ab7ae0e21e4b618bbcbd3dfb5         2162\n",
       "0b605258e1a354f3552dd45b4dd3ba54          724\n",
       "0e35929e41858f4e8f7adbbead019c09_4        470\n",
       "1500b674e1ef027b001efacd4a0dcff5          385\n",
       "01dd938e512bd560020dee459a32a5d5           34\n",
       "1275d75edb74854d9fa0e13325f253a6           32\n",
       "07618097a64126cfe87e099b3054a073           29\n",
       "14dd8e6fdcecd5d02573af4ae38f2449           18\n",
       "00631e77cb5c08e9d5e7673a73bcd887           18\n",
       "a5bf72a3499a3b4d8e3f0371dbb3bdcf           16\n",
       "07047eb879829a0f00ba03fa1425a2ae           16\n",
       "10c774e657315ee95dc8501cdfb7f3fa           15\n",
       "049411a0b2a96a29632f25a0608e067b           15\n",
       "0539e6100beb380efd42766a5d8623df           12\n",
       "03c18359ae35b93a3657b5971fd952fa           11\n",
       "07b54769cadc2fb05f0467775d13925c_3          8\n",
       "13073741f538935aa8adfe90bad2ed52            8\n",
       "0292e2d214e6c58dc2e463cc4281b1e4            6\n",
       "079c27d54c337110c12ae61ea3efe580            6\n",
       "108313535654e36e9780bbcc71e14248            5\n",
       "0c615a244b358d5776bed5d9ebe05414            4\n",
       "020e498be5f87867d753a300e48b6eb3            3\n",
       "13a3abc6486457ee99c72ce73eb456bd            3\n",
       "03ff3b06a5ce77f630b06e2e3983ac7d            3\n",
       "02a3a3fc266b09b7645e538efbc1ea11            2\n",
       "02d4a21d2f38d73fd62279bf1596f6d3            2\n",
       "02a0fea41cbc325869736aa24a81b3d2            2\n",
       "0e076318f6d00219ed9ce06eeb0045fa            2\n",
       "07b54769cadc2fb05f0467775d13925c            2\n",
       "0e35929e41858f4e8f7adbbead019c09            2\n",
       "Name: fingerprint_key, dtype: int64"
      ]
     },
     "metadata": {},
     "output_type": "display_data"
    }
   ],
   "source": [
    "ips_per_attack = df_all['fingerprint_key'].value_counts()\n",
    "print('Number of attacks:', len(ips_per_attack))\n",
    "display(ips_per_attack)\n"
   ]
  },
  {
   "cell_type": "markdown",
   "metadata": {},
   "source": [
    "## How many attacks have outliers?"
   ]
  },
  {
   "cell_type": "code",
   "execution_count": 9,
   "metadata": {},
   "outputs": [
    {
     "name": "stdout",
     "output_type": "stream",
     "text": [
      "Attacks with IP addresses with TTl delta >4: 11\n"
     ]
    },
    {
     "data": {
      "text/plain": [
       "0d8119604993f414d5677ad5d12b5ccf    27554\n",
       "0b605258e1a354f3552dd45b4dd3ba54        8\n",
       "ffd1822ab7ae0e21e4b618bbcbd3dfb5        8\n",
       "0e0ad1669ed7b4bd375b16bbe0852386        2\n",
       "0ac695f2b205e619618265f72b69ff2a        2\n",
       "156405ae844c064eb64c411a7d338b94        1\n",
       "07643f4c01920d5130226ed9f19d4b1e        1\n",
       "0539e6100beb380efd42766a5d8623df        1\n",
       "1275d75edb74854d9fa0e13325f253a6        1\n",
       "0894623296ecae40349eff74e4fa1f1f        1\n",
       "14dd8e6fdcecd5d02573af4ae38f2449        1\n",
       "Name: fingerprint_key, dtype: int64"
      ]
     },
     "metadata": {},
     "output_type": "display_data"
    }
   ],
   "source": [
    "outlier_ips_per_attack = df_all[df_all['delta']>4]['fingerprint_key'].value_counts()\n",
    "print('Attacks with IP addresses with TTl delta >4:', len(outlier_ips_per_attack))\n",
    "display(outlier_ips_per_attack)"
   ]
  },
  {
   "cell_type": "markdown",
   "metadata": {},
   "source": [
    "## What is the distribution of median of TTL values (for TTL >5)?"
   ]
  },
  {
   "cell_type": "code",
   "execution_count": 10,
   "metadata": {},
   "outputs": [],
   "source": [
    "medians = df_relevant['median'].value_counts()"
   ]
  },
  {
   "cell_type": "code",
   "execution_count": 22,
   "metadata": {},
   "outputs": [
    {
     "name": "stderr",
     "output_type": "stream",
     "text": [
      "/usr/local/lib/python3.7/site-packages/matplotlib/figure.py:457: UserWarning: matplotlib is currently using a non-GUI backend, so cannot show the figure\n",
      "  \"matplotlib is currently using a non-GUI backend, \"\n"
     ]
    },
    {
     "data": {
      "image/png": "[encoded data removed]",
      "text/plain": [
       "<Figure size 1080x360 with 1 Axes>"
      ]
     },
     "metadata": {
      "needs_background": "light"
     },
     "output_type": "display_data"
    }
   ],
   "source": [
    "fig = plt.figure(figsize=(15, 5))\n",
    "ax = plt.subplot2grid((1,1),(0,0))\n",
    "\n",
    "medians.sort_index().plot(ax=ax, kind='bar')\n",
    "# ax.set_yscale('log')\n",
    "fig.show()"
   ]
  },
  {
   "cell_type": "markdown",
   "metadata": {},
   "source": [
    "## For ploting an specific attack"
   ]
  },
  {
   "cell_type": "code",
   "execution_count": 24,
   "metadata": {},
   "outputs": [
    {
     "data": {
      "text/html": [
       "<div>\n",
       "<style scoped>\n",
       "    .dataframe tbody tr th:only-of-type {\n",
       "        vertical-align: middle;\n",
       "    }\n",
       "\n",
       "    .dataframe tbody tr th {\n",
       "        vertical-align: top;\n",
       "    }\n",
       "\n",
       "    .dataframe thead th {\n",
       "        text-align: right;\n",
       "    }\n",
       "</style>\n",
       "<table border=\"1\" class=\"dataframe\">\n",
       "  <thead>\n",
       "    <tr style=\"text-align: right;\">\n",
       "      <th></th>\n",
       "      <th>index</th>\n",
       "      <th>ip</th>\n",
       "      <th>num_pkts</th>\n",
       "      <th>mean</th>\n",
       "      <th>median</th>\n",
       "      <th>distinct_values</th>\n",
       "      <th>delta</th>\n",
       "      <th>fingerprint_key</th>\n",
       "    </tr>\n",
       "  </thead>\n",
       "  <tbody>\n",
       "    <tr>\n",
       "      <th>1703806</th>\n",
       "      <td>0</td>\n",
       "      <td>109.169.45.81</td>\n",
       "      <td>267</td>\n",
       "      <td>110.000000</td>\n",
       "      <td>110.0</td>\n",
       "      <td>[110]</td>\n",
       "      <td>0</td>\n",
       "      <td>14dd8e6fdcecd5d02573af4ae38f2449</td>\n",
       "    </tr>\n",
       "    <tr>\n",
       "      <th>1703807</th>\n",
       "      <td>1</td>\n",
       "      <td>109.224.2.77</td>\n",
       "      <td>249</td>\n",
       "      <td>111.000000</td>\n",
       "      <td>111.0</td>\n",
       "      <td>[111]</td>\n",
       "      <td>0</td>\n",
       "      <td>14dd8e6fdcecd5d02573af4ae38f2449</td>\n",
       "    </tr>\n",
       "    <tr>\n",
       "      <th>1703808</th>\n",
       "      <td>2</td>\n",
       "      <td>122.154.238.10</td>\n",
       "      <td>598</td>\n",
       "      <td>46.633779</td>\n",
       "      <td>47.0</td>\n",
       "      <td>[47 46]</td>\n",
       "      <td>1</td>\n",
       "      <td>14dd8e6fdcecd5d02573af4ae38f2449</td>\n",
       "    </tr>\n",
       "    <tr>\n",
       "      <th>1703809</th>\n",
       "      <td>3</td>\n",
       "      <td>122.154.73.42</td>\n",
       "      <td>1558</td>\n",
       "      <td>45.627086</td>\n",
       "      <td>46.0</td>\n",
       "      <td>[45 46]</td>\n",
       "      <td>1</td>\n",
       "      <td>14dd8e6fdcecd5d02573af4ae38f2449</td>\n",
       "    </tr>\n",
       "    <tr>\n",
       "      <th>1703810</th>\n",
       "      <td>4</td>\n",
       "      <td>175.138.67.50</td>\n",
       "      <td>267</td>\n",
       "      <td>60.441948</td>\n",
       "      <td>60.0</td>\n",
       "      <td>[60 61]</td>\n",
       "      <td>1</td>\n",
       "      <td>14dd8e6fdcecd5d02573af4ae38f2449</td>\n",
       "    </tr>\n",
       "    <tr>\n",
       "      <th>1703811</th>\n",
       "      <td>5</td>\n",
       "      <td>178.21.237.130</td>\n",
       "      <td>986</td>\n",
       "      <td>110.000000</td>\n",
       "      <td>110.0</td>\n",
       "      <td>[110]</td>\n",
       "      <td>0</td>\n",
       "      <td>14dd8e6fdcecd5d02573af4ae38f2449</td>\n",
       "    </tr>\n",
       "    <tr>\n",
       "      <th>1703812</th>\n",
       "      <td>6</td>\n",
       "      <td>180.180.126.177</td>\n",
       "      <td>3300</td>\n",
       "      <td>43.997273</td>\n",
       "      <td>44.0</td>\n",
       "      <td>[44 43 42]</td>\n",
       "      <td>2</td>\n",
       "      <td>14dd8e6fdcecd5d02573af4ae38f2449</td>\n",
       "    </tr>\n",
       "    <tr>\n",
       "      <th>1703813</th>\n",
       "      <td>7</td>\n",
       "      <td>195.175.90.210</td>\n",
       "      <td>1561</td>\n",
       "      <td>45.677771</td>\n",
       "      <td>45.0</td>\n",
       "      <td>[48 44 45]</td>\n",
       "      <td>4</td>\n",
       "      <td>14dd8e6fdcecd5d02573af4ae38f2449</td>\n",
       "    </tr>\n",
       "    <tr>\n",
       "      <th>1703814</th>\n",
       "      <td>8</td>\n",
       "      <td>198.101.202.60</td>\n",
       "      <td>488</td>\n",
       "      <td>110.204918</td>\n",
       "      <td>111.0</td>\n",
       "      <td>[112 111 108 106]</td>\n",
       "      <td>6</td>\n",
       "      <td>14dd8e6fdcecd5d02573af4ae38f2449</td>\n",
       "    </tr>\n",
       "    <tr>\n",
       "      <th>1703815</th>\n",
       "      <td>9</td>\n",
       "      <td>203.186.108.102</td>\n",
       "      <td>531</td>\n",
       "      <td>46.480226</td>\n",
       "      <td>46.0</td>\n",
       "      <td>[47 46 48]</td>\n",
       "      <td>2</td>\n",
       "      <td>14dd8e6fdcecd5d02573af4ae38f2449</td>\n",
       "    </tr>\n",
       "    <tr>\n",
       "      <th>1703816</th>\n",
       "      <td>10</td>\n",
       "      <td>37.0.125.113</td>\n",
       "      <td>246</td>\n",
       "      <td>115.000000</td>\n",
       "      <td>115.0</td>\n",
       "      <td>[115]</td>\n",
       "      <td>0</td>\n",
       "      <td>14dd8e6fdcecd5d02573af4ae38f2449</td>\n",
       "    </tr>\n",
       "    <tr>\n",
       "      <th>1703817</th>\n",
       "      <td>11</td>\n",
       "      <td>59.46.49.50</td>\n",
       "      <td>306</td>\n",
       "      <td>44.000000</td>\n",
       "      <td>44.0</td>\n",
       "      <td>[44]</td>\n",
       "      <td>0</td>\n",
       "      <td>14dd8e6fdcecd5d02573af4ae38f2449</td>\n",
       "    </tr>\n",
       "    <tr>\n",
       "      <th>1703818</th>\n",
       "      <td>12</td>\n",
       "      <td>59.46.49.51</td>\n",
       "      <td>36</td>\n",
       "      <td>45.000000</td>\n",
       "      <td>45.0</td>\n",
       "      <td>[45]</td>\n",
       "      <td>0</td>\n",
       "      <td>14dd8e6fdcecd5d02573af4ae38f2449</td>\n",
       "    </tr>\n",
       "    <tr>\n",
       "      <th>1703819</th>\n",
       "      <td>13</td>\n",
       "      <td>61.152.126.82</td>\n",
       "      <td>225</td>\n",
       "      <td>42.000000</td>\n",
       "      <td>42.0</td>\n",
       "      <td>[42]</td>\n",
       "      <td>0</td>\n",
       "      <td>14dd8e6fdcecd5d02573af4ae38f2449</td>\n",
       "    </tr>\n",
       "    <tr>\n",
       "      <th>1703820</th>\n",
       "      <td>14</td>\n",
       "      <td>61.152.126.84</td>\n",
       "      <td>216</td>\n",
       "      <td>42.000000</td>\n",
       "      <td>42.0</td>\n",
       "      <td>[42]</td>\n",
       "      <td>0</td>\n",
       "      <td>14dd8e6fdcecd5d02573af4ae38f2449</td>\n",
       "    </tr>\n",
       "    <tr>\n",
       "      <th>1703821</th>\n",
       "      <td>15</td>\n",
       "      <td>61.93.9.158</td>\n",
       "      <td>2078</td>\n",
       "      <td>47.000000</td>\n",
       "      <td>47.0</td>\n",
       "      <td>[47]</td>\n",
       "      <td>0</td>\n",
       "      <td>14dd8e6fdcecd5d02573af4ae38f2449</td>\n",
       "    </tr>\n",
       "    <tr>\n",
       "      <th>1703822</th>\n",
       "      <td>16</td>\n",
       "      <td>80.234.88.17</td>\n",
       "      <td>243</td>\n",
       "      <td>45.000000</td>\n",
       "      <td>45.0</td>\n",
       "      <td>[45]</td>\n",
       "      <td>0</td>\n",
       "      <td>14dd8e6fdcecd5d02573af4ae38f2449</td>\n",
       "    </tr>\n",
       "    <tr>\n",
       "      <th>1703823</th>\n",
       "      <td>17</td>\n",
       "      <td>82.145.62.5</td>\n",
       "      <td>267</td>\n",
       "      <td>110.000000</td>\n",
       "      <td>110.0</td>\n",
       "      <td>[110]</td>\n",
       "      <td>0</td>\n",
       "      <td>14dd8e6fdcecd5d02573af4ae38f2449</td>\n",
       "    </tr>\n",
       "  </tbody>\n",
       "</table>\n",
       "</div>"
      ],
      "text/plain": [
       "         index               ip  num_pkts        mean  median  \\\n",
       "1703806      0    109.169.45.81       267  110.000000   110.0   \n",
       "1703807      1     109.224.2.77       249  111.000000   111.0   \n",
       "1703808      2   122.154.238.10       598   46.633779    47.0   \n",
       "1703809      3    122.154.73.42      1558   45.627086    46.0   \n",
       "1703810      4    175.138.67.50       267   60.441948    60.0   \n",
       "1703811      5   178.21.237.130       986  110.000000   110.0   \n",
       "1703812      6  180.180.126.177      3300   43.997273    44.0   \n",
       "1703813      7   195.175.90.210      1561   45.677771    45.0   \n",
       "1703814      8   198.101.202.60       488  110.204918   111.0   \n",
       "1703815      9  203.186.108.102       531   46.480226    46.0   \n",
       "1703816     10     37.0.125.113       246  115.000000   115.0   \n",
       "1703817     11      59.46.49.50       306   44.000000    44.0   \n",
       "1703818     12      59.46.49.51        36   45.000000    45.0   \n",
       "1703819     13    61.152.126.82       225   42.000000    42.0   \n",
       "1703820     14    61.152.126.84       216   42.000000    42.0   \n",
       "1703821     15      61.93.9.158      2078   47.000000    47.0   \n",
       "1703822     16     80.234.88.17       243   45.000000    45.0   \n",
       "1703823     17      82.145.62.5       267  110.000000   110.0   \n",
       "\n",
       "           distinct_values  delta                   fingerprint_key  \n",
       "1703806              [110]      0  14dd8e6fdcecd5d02573af4ae38f2449  \n",
       "1703807              [111]      0  14dd8e6fdcecd5d02573af4ae38f2449  \n",
       "1703808            [47 46]      1  14dd8e6fdcecd5d02573af4ae38f2449  \n",
       "1703809            [45 46]      1  14dd8e6fdcecd5d02573af4ae38f2449  \n",
       "1703810            [60 61]      1  14dd8e6fdcecd5d02573af4ae38f2449  \n",
       "1703811              [110]      0  14dd8e6fdcecd5d02573af4ae38f2449  \n",
       "1703812         [44 43 42]      2  14dd8e6fdcecd5d02573af4ae38f2449  \n",
       "1703813         [48 44 45]      4  14dd8e6fdcecd5d02573af4ae38f2449  \n",
       "1703814  [112 111 108 106]      6  14dd8e6fdcecd5d02573af4ae38f2449  \n",
       "1703815         [47 46 48]      2  14dd8e6fdcecd5d02573af4ae38f2449  \n",
       "1703816              [115]      0  14dd8e6fdcecd5d02573af4ae38f2449  \n",
       "1703817               [44]      0  14dd8e6fdcecd5d02573af4ae38f2449  \n",
       "1703818               [45]      0  14dd8e6fdcecd5d02573af4ae38f2449  \n",
       "1703819               [42]      0  14dd8e6fdcecd5d02573af4ae38f2449  \n",
       "1703820               [42]      0  14dd8e6fdcecd5d02573af4ae38f2449  \n",
       "1703821               [47]      0  14dd8e6fdcecd5d02573af4ae38f2449  \n",
       "1703822               [45]      0  14dd8e6fdcecd5d02573af4ae38f2449  \n",
       "1703823              [110]      0  14dd8e6fdcecd5d02573af4ae38f2449  "
      ]
     },
     "execution_count": 24,
     "metadata": {},
     "output_type": "execute_result"
    }
   ],
   "source": [
    "df_all[df_all['fingerprint_key']=='14dd8e6fdcecd5d02573af4ae38f2449']"
   ]
  },
  {
   "cell_type": "code",
   "execution_count": null,
   "metadata": {},
   "outputs": [],
   "source": []
  }
 ],
 "metadata": {
  "kernelspec": {
   "display_name": "Python 3",
   "language": "python",
   "name": "python3"
  },
  "language_info": {
   "codemirror_mode": {
    "name": "ipython",
    "version": 3
   },
   "file_extension": ".py",
   "mimetype": "text/x-python",
   "name": "python",
   "nbconvert_exporter": "python",
   "pygments_lexer": "ipython3",
   "version": "3.7.0"
  }
 },
 "nbformat": 4,
 "nbformat_minor": 2
}
